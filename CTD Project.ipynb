{
 "cells": [
  {
   "cell_type": "code",
   "execution_count": 1,
   "metadata": {},
   "outputs": [],
   "source": [
    "import numpy as np\n",
    "import matplotlib.pyplot as plt\n",
    "import pandas as pd\n",
    "import requests\n",
    "import datetime\n",
    "import matplotlib.ticker as ticker\n",
    "import pytz"
   ]
  },
  {
   "cell_type": "markdown",
   "metadata": {},
   "source": [
    "## Important API Information"
   ]
  },
  {
   "cell_type": "code",
   "execution_count": 2,
   "metadata": {},
   "outputs": [],
   "source": [
    "USERNAME ='OOIAPI-2VGT2I58H9V44G'\n",
    "TOKEN= 'HFYV49OQEJ6'\n",
    "DATA_API_BASE_URL = 'https://ooinet.oceanobservatories.org/api/m2m/12576/sensor/inv/'"
   ]
  },
  {
   "cell_type": "markdown",
   "metadata": {},
   "source": [
    "## Dive Function"
   ]
  },
  {
   "cell_type": "code",
   "execution_count": 3,
   "metadata": {},
   "outputs": [],
   "source": [
    "def getNumberOfDives(depth):\n",
    "    \n",
    "    bottom = max(depth)\n",
    "    atBottom = False\n",
    "    diveCount = 0\n",
    "    \n",
    "    for i in range(0, len(depth)):\n",
    "        \n",
    "        if(depth[i]>0.95*bottom and not atBottom):\n",
    "            atBottom = True\n",
    "            \n",
    "        if(depth[i]<0.95*bottom and atBottom):\n",
    "            atBottom = False\n",
    "            diveCount += 1\n",
    "            \n",
    "    return diveCount"
   ]
  },
  {
   "cell_type": "markdown",
   "metadata": {},
   "source": [
    "## Time Function"
   ]
  },
  {
   "cell_type": "code",
   "execution_count": 4,
   "metadata": {},
   "outputs": [],
   "source": [
    "ntp_epoch = datetime.datetime(1900, 1, 1)\n",
    "unix_epoch = datetime.datetime(1970, 1, 1)\n",
    "ntp_delta = (unix_epoch - ntp_epoch).total_seconds()\n",
    "pst_delta = 8*3600\n",
    "\n",
    "def ntp_seconds_to_datetime(ntp_seconds):\n",
    "    timestamp = datetime.datetime.utcfromtimestamp(ntp_seconds - ntp_delta).replace(microsecond=0)\n",
    "    utc_timezone = pytz.timezone('UTC')\n",
    "    pst_timezone = pytz.timezone('US/Pacific')\n",
    "    time = utc_timezone.localize(timestamp).astimezone(pst_timezone)\n",
    "    return time"
   ]
  },
  {
   "cell_type": "markdown",
   "metadata": {},
   "source": [
    "## Hyperlink Builder (with saved month)"
   ]
  },
  {
   "cell_type": "code",
   "execution_count": 5,
   "metadata": {},
   "outputs": [],
   "source": [
    "def hyperlinkBuilder(location,startDate,endDate,startTime,endTime):\n",
    "\n",
    "    data_request_url = DATA_API_BASE_URL+\\\n",
    "                    location+\\\n",
    "                    'beginDT='+\\\n",
    "                    startDate+\\\n",
    "                    'T'+\\\n",
    "                    startTime+\\\n",
    "                    'Z&'+\\\n",
    "                    'endDT='+\\\n",
    "                    endDate+\\\n",
    "                    'T'+\\\n",
    "                    endTime+\\\n",
    "                    'Z&'+\\\n",
    "                    'limit=1000'\n",
    "    return data_request_url, saved_month"
   ]
  },
  {
   "cell_type": "markdown",
   "metadata": {},
   "source": [
    "## Decent Data to Pull From"
   ]
  },
  {
   "cell_type": "code",
   "execution_count": 6,
   "metadata": {},
   "outputs": [],
   "source": [
    "#API_Request = ['https://ooinet.oceanobservatories.org/api/m2m/12576/sensor/inv/CE02SHSP/SP001/08-CTDPFJ000/recovered_cspp/ctdpf_j_cspp_instrument_recovered?beginDT=2017-08-26T19:54:46.000Z&endDT=2017-08-27T19:54:46.000Z&limit=1000',\n",
    "#              'https://ooinet.oceanobservatories.org/api/m2m/12576/sensor/inv/CE02SHSP/SP001/08-CTDPFJ000/recovered_cspp/ctdpf_j_cspp_instrument_recovered?beginDT=2017-10-07T19:54:46.000Z&endDT=2017-10-08T19:54:46.000Z&limit=1000',\n",
    "#              'https://ooinet.oceanobservatories.org/api/m2m/12576/sensor/inv/CE04OSPS/SF01B/2A-CTDPFA107/streamed/ctdpf_sbe43_sample?beginDT=2016-07-05T19:54:41.760Z&endDT=2016-07-06T19:54:41.760Z&limit=1000',\n",
    "#              'https://ooinet.oceanobservatories.org/api/m2m/12576/sensor/inv/CE04OSPS/SF01B/2A-CTDPFA107/streamed/ctdpf_sbe43_sample?beginDT=2015-12-09T19:54:41.760Z&endDT=2015-12-10T19:54:41.760Z&limit=1000',\n",
    "#              'https://ooinet.oceanobservatories.org/api/m2m/12576/sensor/inv/CE04OSPD/DP01B/01-CTDPFL105/recovered_wfp/dpc_ctd_instrument_recovered?beginDT=2014-08-22T00:04:46.928Z&endDT=2014-08-23T00:04:46.928Z&limit=1000',\n",
    "#              'https://ooinet.oceanobservatories.org/api/m2m/12576/sensor/inv/CE04OSPD/DP01B/01-CTDPFL105/recovered_wfp/dpc_ctd_instrument_recovered?beginDT=2015-10-29T00:04:46.928Z&endDT=2015-10-30T00:04:46.928Z&limit=1000',\n",
    "#              'https://ooinet.oceanobservatories.org/api/m2m/12576/sensor/inv/RS01SBPS/SF01A/2A-CTDPFA102/streamed/ctdpf_sbe43_sample?beginDT=2016-07-05T18:41:52.175Z&endDT=2016-07-06T18:41:52.175Z&limit=1000',\n",
    "#              'https://ooinet.oceanobservatories.org/api/m2m/12576/sensor/inv/CE02SHSP/SP001/08-CTDPFJ000/recovered_cspp/ctdpf_j_cspp_instrument_recovered?beginDT=2019-07-25T19:54:46.373Z&endDT=2019-07-26T19:54:46.373Z&limit=1000',\n",
    "#              'https://ooinet.oceanobservatories.org/api/m2m/12576/sensor/inv/RS01SBPD/DP01A/01-CTDPFL104/recovered_inst/dpc_ctd_instrument_recovered?beginDT=2019-07-19T17:42:10.582Z&endDT=2019-07-20T17:42:10.582Z&limit=1000',\n",
    "#              'https://ooinet.oceanobservatories.org/api/m2m/12576/sensor/inv/RS01SBPD/DP01A/01-CTDPFL104/recovered_wfp/dpc_ctd_instrument_recovered?beginDT=2015-10-10T00:07:00.379Z&endDT=2015-10-11T00:07:00.379Z&limit=1000',\n",
    "#              'https://ooinet.oceanobservatories.org/api/m2m/12576/sensor/inv/RS03AXPS/SF03A/2A-CTDPFA302/streamed/ctdpf_sbe43_sample?beginDT=2019-07-21T00:00:50.955Z&endDT=2019-07-22T00:00:50.955Z&limit=1000',\n",
    "#              'https://ooinet.oceanobservatories.org/api/m2m/12576/sensor/inv/RS03AXPS/SF03A/2A-CTDPFA302/streamed/ctdpf_sbe43_sample?beginDT=2019-12-21T00:00:50.955Z&endDT=2019-12-22T00:00:50.955Z&limit=1000',\n",
    "#              'https://ooinet.oceanobservatories.org/api/m2m/12576/sensor/inv/RS03AXPD/DP03A/01-CTDPFL304/recovered_inst/dpc_ctd_instrument_recovered?beginDT=2019-07-21T19:32:36.920Z&endDT=2019-07-22T19:32:36.920Z&limit=1000',\n",
    "#              'https://ooinet.oceanobservatories.org/api/m2m/12576/sensor/inv/RS03AXPD/DP03A/01-CTDPFL304/recovered_inst/dpc_ctd_instrument_recovered?beginDT=2019-12-21T19:32:36.920Z&endDT=2019-12-22T19:32:36.920Z&limit=1000']"
   ]
  },
  {
   "cell_type": "markdown",
   "metadata": {},
   "source": [
    "## Location Names and Addresses"
   ]
  },
  {
   "cell_type": "code",
   "execution_count": 7,
   "metadata": {},
   "outputs": [],
   "source": [
    "locations = ['1) Coastal Endurance Oregon Shelf Surface Piercing Profiler Mooring',\n",
    "            '2) Coastal Endurance Oregon Offshore Cabled Shallow Profiler Mooring',\n",
    "            '3) Coastal Endurance Oregon Offshore Cabled Deep Profiler Mooring',\n",
    "            '4) Cabled Array Oregon Slope Base Shallow Profiler',\n",
    "            '5) Cabled Array Oregon Slope Base Deep Profiler',\n",
    "            '6) Cabled Array Axial Base Shallow Profiler',\n",
    "            '7) Cabled Array Axial Base Deep Profiler']"
   ]
  },
  {
   "cell_type": "code",
   "execution_count": 8,
   "metadata": {},
   "outputs": [],
   "source": [
    "sensors = ['CE02SHSP/SP001/08-CTDPFJ000/recovered_cspp/ctdpf_j_cspp_instrument_recovered?',\n",
    "          'CE04OSPS/SF01B/2A-CTDPFA107/streamed/ctdpf_sbe43_sample?',\n",
    "          'CE04OSPD/DP01B/01-CTDPFL105/recovered_wfp/dpc_ctd_instrument_recovered?',\n",
    "          'RS01SBPS/SF01A/2A-CTDPFA102/streamed/ctdpf_sbe43_sample?',\n",
    "          'RS01SBPD/DP01A/01-CTDPFL104/recovered_inst/dpc_ctd_instrument_recovered?',\n",
    "          'RS03AXPS/SF03A/2A-CTDPFA302/streamed/ctdpf_sbe43_sample?',\n",
    "          'RS03AXPD/DP03A/01-CTDPFL304/recovered_inst/dpc_ctd_instrument_recovered?']"
   ]
  },
  {
   "cell_type": "markdown",
   "metadata": {},
   "source": [
    "## Inputs with Print Statements"
   ]
  },
  {
   "cell_type": "code",
   "execution_count": 33,
   "metadata": {},
   "outputs": [
    {
     "name": "stdout",
     "output_type": "stream",
     "text": [
      "Please input the number for one of the locations listed below:\n",
      "\t1) Coastal Endurance Oregon Shelf Surface Piercing Profiler Mooring\n",
      "\t2) Coastal Endurance Oregon Offshore Cabled Shallow Profiler Mooring\n",
      "\t3) Coastal Endurance Oregon Offshore Cabled Deep Profiler Mooring\n",
      "\t4) Cabled Array Oregon Slope Base Shallow Profiler\n",
      "\t5) Cabled Array Oregon Slope Base Deep Profiler\n",
      "\t6) Cabled Array Axial Base Shallow Profiler\n",
      "\t7) Cabled Array Axial Base Deep Profiler\n",
      "7\n",
      "You have selected: 7) Cabled Array Axial Base Deep Profiler\n",
      "Please input a start and end date relative to PST\n",
      "Example: 2019-07-25\n",
      "2019-12-21\n",
      "2019-12-22\n",
      "Please input a start and end time in PST\n",
      "Example: 19:54:46.373\n",
      "19:32:36.920\n",
      "19:32:36.920\n"
     ]
    }
   ],
   "source": [
    "print('Please input the number for one of the locations listed below:')\n",
    "for i in range(len(locations)):\n",
    "    print('\\t' + locations[i])\n",
    "key_input = int(input())\n",
    "calling_int = key_input -1\n",
    "print('You have selected: '+ locations[calling_int])\n",
    "print('Please input a start and end date relative to PST')\n",
    "print('Example: 2019-07-25')\n",
    "startDate = input()\n",
    "endDate = input()\n",
    "print('Please input a start and end time in PST')\n",
    "print('Example: 19:54:46.373')\n",
    "startTime = input()\n",
    "endTime = input()"
   ]
  },
  {
   "cell_type": "markdown",
   "metadata": {},
   "source": [
    "## Time Transform"
   ]
  },
  {
   "cell_type": "code",
   "execution_count": 34,
   "metadata": {},
   "outputs": [],
   "source": [
    "year = startDate[:4]\n",
    "year=int(year)\n",
    "month=startDate[5:-3]\n",
    "month=int(month)\n",
    "saved_month = month\n",
    "day = startDate[8:]\n",
    "day = int(day)\n",
    "hour = startTime[:2]\n",
    "hour = int(hour)\n",
    "minute = startTime[3:-7]\n",
    "minute = int(minute)\n",
    "second = startTime[6:-4]\n",
    "second = int(second)\n",
    "utc_timezone = pytz.timezone(\"UTC\")\n",
    "pst_timezone = pytz.timezone(\"US/Pacific\")\n",
    "time = pst_timezone.localize(datetime.datetime(year, month, day, hour, minute, second)).astimezone(utc_timezone)\n",
    "time = str(time)\n",
    "startDate = time[:10]\n",
    "startTime = time[11:-6]+startTime[-4:]\n",
    "year = endDate[:4]\n",
    "year=int(year)\n",
    "month=endDate[5:-3]\n",
    "month=int(month)\n",
    "day = endDate[8:]\n",
    "day = int(day)\n",
    "hour = endTime[:2]\n",
    "hour = int(hour)\n",
    "minute = endTime[3:-7]\n",
    "minute = int(minute)\n",
    "second = endTime[6:-4]\n",
    "second = int(second)\n",
    "utc_timezone = pytz.timezone(\"UTC\")\n",
    "pst_timezone = pytz.timezone(\"US/Pacific\")\n",
    "time = pst_timezone.localize(datetime.datetime(year, month, day, hour, minute, second)).astimezone(utc_timezone)\n",
    "time = str(time)\n",
    "endDate = time[:10]\n",
    "endTime = time[11:-6]+startTime[-4:]"
   ]
  },
  {
   "cell_type": "markdown",
   "metadata": {},
   "source": [
    "## API Request"
   ]
  },
  {
   "cell_type": "code",
   "execution_count": 35,
   "metadata": {},
   "outputs": [],
   "source": [
    "#apiPull holds the link first, and then the saved month second\n",
    "apiPull = []\n",
    "apiPull = hyperlinkBuilder(sensors[calling_int],startDate,endDate,startTime,endTime)\n",
    "r = requests.get(apiPull[0], auth=(USERNAME, TOKEN))\n",
    "imported_data = r.json()\n",
    "data = pd.DataFrame(imported_data)"
   ]
  },
  {
   "cell_type": "markdown",
   "metadata": {},
   "source": [
    "## Pulling Variables"
   ]
  },
  {
   "cell_type": "code",
   "execution_count": 36,
   "metadata": {},
   "outputs": [],
   "source": [
    "header = data.columns\n",
    "titles = []\n",
    "\n",
    "for i in range(len(header)):\n",
    "    if header[i] == 'seawater_temperature':\n",
    "        titles.append(header[i])\n",
    "    elif header[i] == 'temp':\n",
    "        titles.append(header[i])\n",
    "    elif header[i] == 'temperature':\n",
    "        titles.append(header[i])\n",
    "    elif header[i] == 'seawater_pressure':\n",
    "        titles.append(header[i])\n",
    "    elif header[i] == 'pressure':\n",
    "        titles.append(header[i])\n",
    "    elif header[i] == 'salinity':\n",
    "        titles.append(header[i])\n",
    "    elif header[i] == 'practical_salinity':\n",
    "        titles.append(header[i])\n",
    "    elif header[i] == 'time':\n",
    "        titles.append(header[i])\n",
    "\n",
    "location_time = []\n",
    "location_temp = []\n",
    "location_pressure = []\n",
    "location_salinity = []\n",
    "        \n",
    "for i in range(len(titles)):\n",
    "    if titles[i] == 'time':\n",
    "        location_time.append(i)\n",
    "    elif titles[i] == 'temp' or titles[i] == 'temperature' or  titles[i] == 'seawater_temperature':\n",
    "        location_temp.append(i)\n",
    "    elif titles[i] == 'seawater_pressure' or titles[i] == 'pressure':\n",
    "        location_pressure.append(i)\n",
    "    elif titles[i] == 'salinity' or titles[i] == 'practical_salinity':\n",
    "        location_salinity.append(i)"
   ]
  },
  {
   "cell_type": "code",
   "execution_count": 37,
   "metadata": {},
   "outputs": [],
   "source": [
    "time = []\n",
    "temperature = []\n",
    "pressure = []\n",
    "salinity = []\n",
    "\n",
    "countTemp = 0\n",
    "countPressure = 0\n",
    "countSalinity = 0\n",
    "\n",
    "for i in range(len(data)):\n",
    "    time.append(ntp_seconds_to_datetime(data[titles[location_time[0]]][i]))\n",
    "    \n",
    "    temperature.append(data[titles[location_temp[countTemp]]][i])\n",
    "    if temperature[i] > 36:\n",
    "        countTemp += 1\n",
    "        temperature[i] = data[titles[location_temp[countTemp]]][i]\n",
    "        \n",
    "    pressure.append(data[titles[location_pressure[countPressure]]][i])\n",
    "    if pressure[i] > 10994:\n",
    "        countPressure += 1\n",
    "        pressure[i] = data[titles[location_pressure[countPressure]]][i]\n",
    "    \n",
    "    salinity.append(data[titles[location_salinity[countSalinity]]][i])\n",
    "    if salinity[i] > 50:\n",
    "        countSalinity += 1\n",
    "        salinity[i] = data[titles[location_salinity[countSalinity]]][i]\n",
    "        \n",
    "ssp = [0 for x in range(len(temperature))]\n",
    "for k in range(len(temperature)):\n",
    "    ssp[k] = 1449.2+(4.6*temperature[k])-(.055*temperature[k]*temperature[k])+(.00029*temperature[k]*temperature[k]*temperature[k])+((1.34-(0.01*temperature[k]))*(salinity[k]-35))+(0.016*pressure[k])"
   ]
  },
  {
   "cell_type": "markdown",
   "metadata": {},
   "source": [
    "## Plots and Arrays for Plots"
   ]
  },
  {
   "cell_type": "code",
   "execution_count": 38,
   "metadata": {},
   "outputs": [],
   "source": [
    "plot_title = ['Coastal Endurance Oregon Shelf Surface Piercing Profiler Mooring',\n",
    "            'Coastal Endurance Oregon Offshore Cabled Shallow Profiler Mooring',\n",
    "            'Coastal Endurance Oregon Offshore Cabled Deep Profiler Mooring',\n",
    "            'Cabled Array Oregon Slope Base Shallow Profiler',\n",
    "            'Cabled Array Oregon Slope Base Deep Profiler',\n",
    "            'Cabled Array Axial Base Shallow Profiler',\n",
    "            'Cabled Array Axial Base Deep Profiler']"
   ]
  },
  {
   "cell_type": "code",
   "execution_count": 39,
   "metadata": {},
   "outputs": [],
   "source": [
    "def season(input_month):\n",
    "    if 3 < input_month <10:\n",
    "        season = 'Summer'\n",
    "    else:\n",
    "        season = 'Winter'\n",
    "    return season"
   ]
  },
  {
   "cell_type": "code",
   "execution_count": 40,
   "metadata": {},
   "outputs": [
    {
     "data": {
      "image/png": "[encoded data removed]",
      "text/plain": [
       "<Figure size 432x288 with 1 Axes>"
      ]
     },
     "metadata": {
      "needs_background": "light"
     },
     "output_type": "display_data"
    },
    {
     "data": {
      "image/png": "[encoded data removed]",
      "text/plain": [
       "<Figure size 432x288 with 1 Axes>"
      ]
     },
     "metadata": {
      "needs_background": "light"
     },
     "output_type": "display_data"
    },
    {
     "name": "stdout",
     "output_type": "stream",
     "text": [
      "Residuals from error:\n",
      "[82.29192264]\n"
     ]
    },
    {
     "data": {
      "image/png": "[encoded data removed]",
      "text/plain": [
       "<Figure size 432x288 with 1 Axes>"
      ]
     },
     "metadata": {
      "needs_background": "light"
     },
     "output_type": "display_data"
    },
    {
     "name": "stdout",
     "output_type": "stream",
     "text": [
      "Dive Count:\n",
      "2\n",
      "Note: dive count may be inaccurate. Confirm graphically before continuing.\n"
     ]
    }
   ],
   "source": [
    "SvW = season(apiPull[1])\n",
    "\n",
    "plt.scatter(ssp,pressure)\n",
    "plt.gca().invert_yaxis()\n",
    "plt.legend(['Raw Data'])\n",
    "plt.title('Speed of Sound vs Depth from ' + plot_title[calling_int] + ' in ' + SvW)\n",
    "plt.ylabel('Depth (m)')\n",
    "plt.xlabel('Speed of Sound (m/s)')\n",
    "plt.show()\n",
    "poly = np.polyfit(pressure,ssp,5,full=True)\n",
    "poly_ssp = np.poly1d(poly[0])(pressure)\n",
    "plt.scatter(poly_ssp,pressure)\n",
    "plt.gca().invert_yaxis()\n",
    "plt.legend(['Average'])\n",
    "plt.title('Average Speed of Sound vs Depth from ' + plot_title[calling_int] + ' in ' + SvW)\n",
    "plt.ylabel('Depth (m)')\n",
    "plt.xlabel('Speed of Sound (m/s)')\n",
    "plt.show()\n",
    "print('Residuals from error:')\n",
    "print(poly[1])\n",
    "plt.plot_date(time,ssp)\n",
    "plt.xticks(rotation=30)\n",
    "plt.tight_layout()\n",
    "plt.legend(['Raw Data'])\n",
    "plt.title('Speed of Sound vs Time from ' + plot_title[calling_int] + ' in ' + SvW)\n",
    "plt.xlabel('Time (Month-Day and Hour)')\n",
    "plt.ylabel('Speed of Sound (m/s)')\n",
    "plt.show()\n",
    "dives = getNumberOfDives(pressure)\n",
    "if dives > 0:\n",
    "    print('Dive Count:')\n",
    "    print(dives)\n",
    "    print('Note: dive count may be inaccurate. Confirm graphically before continuing.')\n",
    "else:\n",
    "    print('Data may be insufficiently processed or corrupted. Dives cannot be displayed.')\n"
   ]
  },
  {
   "cell_type": "code",
   "execution_count": null,
   "metadata": {},
   "outputs": [],
   "source": []
  }
 ],
 "metadata": {
  "kernelspec": {
   "display_name": "Python 3",
   "language": "python",
   "name": "python3"
  },
  "language_info": {
   "codemirror_mode": {
    "name": "ipython",
    "version": 3
   },
   "file_extension": ".py",
   "mimetype": "text/x-python",
   "name": "python",
   "nbconvert_exporter": "python",
   "pygments_lexer": "ipython3",
   "version": "3.7.4"
  }
 },
 "nbformat": 4,
 "nbformat_minor": 2
}
